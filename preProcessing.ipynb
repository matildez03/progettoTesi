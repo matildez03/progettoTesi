import pandas as pd
import numpy as np
import matplotlib.pyplot as plt
import seaborn as sns
from tabulate import tabulate

# Carico il dataset
file_path = "spotify_dataset_2022.csv"  
df = pd.read_csv(file_path)

# Mostra le prime righe del dataset
print("Prime righe del dataset:")
print(tabulate(df.head(), headers='keys', tablefmt='psql'))

# Controllo il tipo di dati e i valori mancanti
print("\nInformazioni sul dataset:")
print(df.info())

# Controllo la presenza di valori mancanti
print("\nValori mancanti per colonna:")
print(df.isnull().sum())

# Statistiche descrittive sulle feature numeriche
print("\nStatistiche descrittive:")
print(tabulate(df.describe(), headers='keys', tablefmt='psql'))

# Visualizza la distribuzione della popolarità dei brani
plt.figure(figsize=(8, 5))
sns.histplot(df['popularity'], bins=20, kde=True)
plt.xlabel("Popolarità")
plt.ylabel("Conteggio")
plt.title("Distribuzione della popolarità dei brani")


df.hist(bins=50, figsize=(20,15))


# Verifico la correlazione tra le feature
plt.figure(figsize=(10, 6))
sns.heatmap(df.corr(), annot=True, cmap='coolwarm', fmt=".2f")
plt.title("Matrice di correlazione tra le feature")
plt.tight_layout()  # Aggiungi questa riga
plt.show()


